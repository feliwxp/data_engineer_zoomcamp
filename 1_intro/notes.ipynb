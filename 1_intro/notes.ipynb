{
 "cells": [
  {
   "attachments": {},
   "cell_type": "markdown",
   "metadata": {},
   "source": [
    "### Purging All Unused or Dangling Images, Containers, Volumes, and Networks\n",
    "\n",
    "https://www.digitalocean.com/community/tutorials/how-to-remove-docker-images-containers-and-volumes\n",
    "\n",
    "\n",
    "docker system prune\n",
    "\n",
    "docker system prune -a\n",
    "\n",
    "docker rmi $(docker images -a -q)\n",
    "\n",
    "docker stop $(docker ps -a -q)\n",
    "\n",
    "docker rm $(docker ps -a -q)\n"
   ]
  },
  {
   "attachments": {},
   "cell_type": "markdown",
   "metadata": {},
   "source": [
    "### SQL \n",
    "\n",
    "https://towardsdatascience.com/sql-in-a-nutshell-part-1-basic-real-world-scenarios-33a25ba8d220\n"
   ]
  },
  {
   "cell_type": "markdown",
   "metadata": {},
   "source": []
  }
 ],
 "metadata": {
  "kernelspec": {
   "display_name": "fs",
   "language": "python",
   "name": "python3"
  },
  "language_info": {
   "codemirror_mode": {
    "name": "ipython",
    "version": 3
   },
   "file_extension": ".py",
   "mimetype": "text/x-python",
   "name": "python",
   "nbconvert_exporter": "python",
   "pygments_lexer": "ipython3",
   "version": "3.10.6"
  },
  "orig_nbformat": 4
 },
 "nbformat": 4,
 "nbformat_minor": 2
}
